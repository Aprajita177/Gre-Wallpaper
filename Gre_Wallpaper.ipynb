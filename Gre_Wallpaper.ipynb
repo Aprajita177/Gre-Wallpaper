{
 "cells": [
  {
   "cell_type": "markdown",
   "metadata": {},
   "source": [
    "## Detect center of shape and then write text (below)"
   ]
  },
  {
   "cell_type": "markdown",
   "metadata": {},
   "source": [
    "-----------------------------------------------------------------------------"
   ]
  },
  {
   "cell_type": "code",
   "execution_count": 15,
   "metadata": {},
   "outputs": [],
   "source": [
    "import argparse\n",
    "import imutils\n",
    "import cv2\n",
    "import pandas as pd"
   ]
  },
  {
   "cell_type": "code",
   "execution_count": 16,
   "metadata": {},
   "outputs": [],
   "source": [
    "def create(i): #i denotes the dataframe's index\n",
    "    cnts = cv2.findContours(thresh.copy(), cv2.RETR_EXTERNAL,cv2.CHAIN_APPROX_SIMPLE)\n",
    "    cnts = imutils.grab_contours(cnts)\n",
    "    for c in cnts:\n",
    "        M = cv2.moments(c)\n",
    "        cX = int(M[\"m10\"] / M[\"m00\"])\n",
    "        cY = int(M[\"m01\"] / M[\"m00\"])\n",
    "        cv2.drawContours(image, [c], -1, (0, 255, 0), 2)\n",
    "        wordtext_shape = cv2.getTextSize(\"word: \"+df.values[i][0],cv2.FONT_HERSHEY_DUPLEX,4,3)\n",
    "        meantext_shape = cv2.getTextSize(\"Meaning: \"+df.values[i][1],cv2.FONT_HERSHEY_SCRIPT_COMPLEX,3,3)\n",
    "        cv2.putText(image2, \"word: \"+df.values[i][0], (cX - (int)(wordtext_shape[0][0]/2), cY - 200-wordtext_shape[0][1]),cv2.FONT_HERSHEY_DUPLEX, 4, (255, 255, 255), 4)\n",
    "        cv2.putText(image2, \"Meaning: \"+df.values[i][1], (cX - (int)(meantext_shape[0][0]/2), cY - 100-meantext_shape[0][1]),cv2.FONT_HERSHEY_SCRIPT_COMPLEX, 3, (255, 255, 255), 3)"
   ]
  },
  {
   "cell_type": "code",
   "execution_count": 17,
   "metadata": {},
   "outputs": [],
   "source": [
    "df = pd.read_csv(\"randword.csv\",sep = \",\", names = [\"word\",\"meaning\"])\n",
    "image = cv2.imread('wallpaper.jpg',cv2.IMREAD_UNCHANGED)\n",
    "image2 = cv2.imread('wallpaper.jpg',cv2.IMREAD_UNCHANGED)\n",
    "gray = cv2.cvtColor(image, cv2.COLOR_BGR2GRAY)\n",
    "blurred = cv2.GaussianBlur(gray, (5, 5), 0)\n",
    "thresh = cv2.threshold(blurred, 60, 255, cv2.THRESH_BINARY)[1]\n",
    "create(1)"
   ]
  },
  {
   "cell_type": "code",
   "execution_count": 18,
   "metadata": {
    "scrolled": true
   },
   "outputs": [
    {
     "data": {
      "text/plain": [
       "True"
      ]
     },
     "execution_count": 18,
     "metadata": {},
     "output_type": "execute_result"
    }
   ],
   "source": [
    "cv2.imwrite('img.png',image2)"
   ]
  },
  {
   "cell_type": "code",
   "execution_count": null,
   "metadata": {},
   "outputs": [],
   "source": []
  }
 ],
 "metadata": {
  "kernelspec": {
   "display_name": "Python 3",
   "language": "python",
   "name": "python3"
  },
  "language_info": {
   "codemirror_mode": {
    "name": "ipython",
    "version": 3
   },
   "file_extension": ".py",
   "mimetype": "text/x-python",
   "name": "python",
   "nbconvert_exporter": "python",
   "pygments_lexer": "ipython3",
   "version": "3.7.6"
  }
 },
 "nbformat": 4,
 "nbformat_minor": 4
}
